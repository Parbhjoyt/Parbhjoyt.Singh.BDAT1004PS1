{
 "cells": [
  {
   "cell_type": "markdown",
   "id": "96735e03",
   "metadata": {},
   "source": [
    "6.You can turn a word into pig-Latin using the following two rules (simplified):\n",
    "• If the word starts with a consonant, move that letter to the end and append \n",
    "'ay'. For example, 'happy' becomes 'appyhay' and 'pencil' becomes 'encilpay'.\n",
    "• If the word starts with a vowel, simply append 'way' to the end of the word. \n",
    "For example, 'enter' becomes 'enterway' and 'other' becomes 'otherway' . For \n",
    "our purposes, there are 5 vowels: a, e, i, o, u (so we count y as a consonant).\n",
    "Write a function pig() that takes a word (i.e., a string) as input and returns its pig\u0002Latin form. Your function should still work if the input word contains upper case \n",
    "characters. Your output should always be lower case however. "
   ]
  },
  {
   "cell_type": "code",
   "execution_count": 1,
   "id": "b66f2637",
   "metadata": {},
   "outputs": [
    {
     "name": "stdout",
     "output_type": "stream",
     "text": [
      "Input the value\n",
      "Enter\n",
      "output = enterway\n"
     ]
    }
   ],
   "source": [
    "'''Code 6'''\n",
    "def pig(x):\n",
    "    x=x.lower()\n",
    "    a=len(x) \n",
    "    s=\"\"\n",
    "    if x[0]=='a' or x[0]=='e' or x[0]=='i' or x[0]=='o' or x[0]=='u' :\n",
    "        s= x + \"way\"\n",
    "        return s\n",
    "        \n",
    "    else : \n",
    "        s=x[1:] + x[0] + \"ay\"\n",
    "        return s\n",
    "\n",
    "print(\"Input the value\")\n",
    "x=input()\n",
    "print(\"output = \" + pig(x))\n"
   ]
  },
  {
   "cell_type": "markdown",
   "id": "39007649",
   "metadata": {},
   "source": []
  },
  {
   "cell_type": "markdown",
   "id": "64872b6d",
   "metadata": {},
   "source": []
  },
  {
   "cell_type": "markdown",
   "id": "85de6788",
   "metadata": {},
   "source": []
  },
  {
   "cell_type": "markdown",
   "id": "77043104",
   "metadata": {},
   "source": [
    "7.File bloodtype1.txt records blood-types of patients (A, B, AB, O or OO) at a clinic. \n",
    "Write a function bldcount() that reads the file with name name and reports (i.e., \n",
    "prints) how many patients there are in each bloodtype."
   ]
  },
  {
   "cell_type": "code",
   "execution_count": 2,
   "id": "ddc2c47a",
   "metadata": {},
   "outputs": [
    {
     "name": "stdout",
     "output_type": "stream",
     "text": [
      "There are 15 patients of blood type A\n",
      "There are 1 patients of blood type B\n",
      "There are 13 patients of blood type AB\n",
      "There are 15 patients of blood type O\n",
      "There are 0 patients of blood type OO\n"
     ]
    }
   ],
   "source": [
    "'''Code 7'''\n",
    "def bldcount():\n",
    "    with open(\"bloodtype1.txt\") as bloodtype:\n",
    "        types= bloodtype.readline()\n",
    "        types=types.split(\" \")\n",
    "        A=0\n",
    "        B=0\n",
    "        AB=0\n",
    "        O=0\n",
    "        OO=0\n",
    "        for type in types:\n",
    "            if(type=='A'): A +=1 \n",
    "            elif(type=='B'):B +=1 \n",
    "            elif(type=='AB'):AB +=1 \n",
    "            elif(type=='O'):O +=1 \n",
    "            elif(type=='OO'):OO +=1 \n",
    "        print(\"There are {} patients of blood type A\".format(A))\n",
    "        print(\"There are {} patients of blood type B\".format(B))\n",
    "        print(\"There are {} patients of blood type AB\".format(AB))\n",
    "        print(\"There are {} patients of blood type O\".format(O))\n",
    "        print(\"There are {} patients of blood type OO\".format(OO))\n",
    "\n",
    "bldcount()"
   ]
  },
  {
   "cell_type": "markdown",
   "id": "9a4240f1",
   "metadata": {},
   "source": []
  },
  {
   "cell_type": "markdown",
   "id": "4d135c39",
   "metadata": {},
   "source": []
  },
  {
   "cell_type": "markdown",
   "id": "1ca73fef",
   "metadata": {},
   "source": []
  },
  {
   "cell_type": "markdown",
   "id": "1f245a0b",
   "metadata": {},
   "source": [
    "8.Write a function curconv() that takes as input:\n",
    "1. a currency represented using a string (e.g., 'JPY' for the Japanese Yen or \n",
    "'EUR' for the Euro)\n",
    "2. an amount\n",
    "and then converts and returns the amount in US dollars."
   ]
  },
  {
   "cell_type": "code",
   "execution_count": 3,
   "id": "24900796",
   "metadata": {},
   "outputs": [
    {
     "name": "stdout",
     "output_type": "stream",
     "text": [
      "Input currency and amount\n",
      "JPY\n",
      "100\n",
      "Usd value is 1.241401 \n"
     ]
    }
   ],
   "source": [
    "'''Code 8 '''\n",
    "\n",
    "def curconv(currency,amount):\n",
    "     with open(\"currencies.txt\") as currencies:\n",
    "         curre = [curr.split() for curr in currencies]\n",
    "     converted=0\n",
    "     for i in curre:\n",
    "         if str(i[0]) == currency:\n",
    "             x=float(i[1])\n",
    "             a=amount * x\n",
    "             print(\"Usd value is {} \".format(a))\n",
    "             converted = 1\n",
    "             break;\n",
    "         else :\n",
    "             continue\n",
    "     if converted==0:\n",
    "         print(\"Please input correct data as no match found\")\n",
    "print(\"Input currency and amount\")\n",
    "cur=input()\n",
    "amt=float(input())\n",
    "curconv(cur,amt)"
   ]
  },
  {
   "cell_type": "markdown",
   "id": "b2535de5",
   "metadata": {},
   "source": []
  },
  {
   "cell_type": "markdown",
   "id": "3efbe8f0",
   "metadata": {},
   "source": []
  },
  {
   "cell_type": "markdown",
   "id": "0e1a2725",
   "metadata": {},
   "source": []
  },
  {
   "cell_type": "markdown",
   "id": "229591bd",
   "metadata": {},
   "source": [
    "9.Each of the following will cause an exception (an error). Identify what type of \n",
    "exception each will cause.\n",
    "Trying to add incompatible variables, as in adding 6 + ‘a’\n",
    "Referring to the 12th item of a list that has only 10 items\n",
    "Using a value that is out of range for a function’s input, such as calling math.sqrt(-1.0)\n",
    "Using an undeclared variable, such as print(x)when x has not been defined \n",
    "Trying to open a file that does not exist, such as mistyping the file name or looking in the wrong directory."
   ]
  },
  {
   "cell_type": "code",
   "execution_count": 8,
   "id": "5c2c9bcb",
   "metadata": {},
   "outputs": [
    {
     "name": "stdout",
     "output_type": "stream",
     "text": [
      "error for 6 + 'a' =>  unsupported operand type(s) for +: 'int' and 'str'\n",
      "error for 12th element =>  list index out of range\n",
      "error for math.sqrt(-1.0) =>  math domain error\n",
      "error for print(xx) =>  name 'xx' is not defined\n",
      "error for opening unknown file =>  [Errno 2] No such file or directory: 'unknown.txt'\n"
     ]
    }
   ],
   "source": [
    "'''Code 9'''\n",
    "import math\n",
    "\n",
    "try:\n",
    "    x1= 6 + 'a'   \n",
    "except Exception as e:\n",
    "    print( \"error for 6 + 'a' => \",e)\n",
    "    \n",
    "try:\n",
    "    x2=[1,2,3,4,5,6,7,8,9,10]   \n",
    "    print(x2[12])\n",
    "except Exception as e:\n",
    "    print( \"error for 12th element => \",e)\n",
    "    \n",
    "\n",
    "try:\n",
    "    x1= math.sqrt(-1.0)    \n",
    "except Exception as e:\n",
    "    print( \"error for math.sqrt(-1.0) => \",e)\n",
    "\n",
    "try:\n",
    "    print(x)  \n",
    "except Exception as e:\n",
    "    print( \"error for print(x) => \",e)\n",
    "    \n",
    "try:\n",
    "    f = open(\"unknown.txt\")   \n",
    "except Exception as e:\n",
    "    print( \"error for opening unknown file => \",e)"
   ]
  },
  {
   "cell_type": "markdown",
   "id": "adca48e0",
   "metadata": {},
   "source": []
  },
  {
   "cell_type": "markdown",
   "id": "b0396924",
   "metadata": {},
   "source": []
  },
  {
   "cell_type": "markdown",
   "id": "7460c840",
   "metadata": {},
   "source": []
  },
  {
   "cell_type": "markdown",
   "id": "73324e2f",
   "metadata": {},
   "source": [
    "10.Encryption is the process of hiding the meaning of a text by substituting letters in the \n",
    "message with other letters, according to some system. If the process is successful, no \n",
    "one but the intended recipient can understand the encrypted message. Cryptanalysis\n",
    "refers to attempts to undo the encryption, even if some details of the encryption are \n",
    "unknown (for example, if an encrypted message has been intercepted). The first step \n",
    "of cryptanalysis is often to build up a table of letter frequencies in the encrypted text. \n",
    "Assume that the string letters is already defined as \n",
    "'abcdefghijklmnopqrstuvwxyz'. Write a function called frequencies()\n",
    "that takes a string as its only parameter, and returns a list of integers, showing the \n",
    "number of times each character appears in the text. Your function may ignore any \n",
    "characters that are not in letters. "
   ]
  },
  {
   "cell_type": "code",
   "execution_count": 4,
   "id": "ea5257d8",
   "metadata": {},
   "outputs": [
    {
     "name": "stdout",
     "output_type": "stream",
     "text": [
      "Input the word\n",
      "The quick red fox got bored and went home.\n",
      "[1, 1, 1, 3, 5, 1, 1, 2, 1, 0, 1, 0, 1, 2, 4, 0, 1, 2, 0, 3, 1, 0, 1, 1, 0, 0]\n"
     ]
    }
   ],
   "source": [
    "'''Code 10 '''\n",
    "def frequencies(word):\n",
    "    word=list(word.lower())\n",
    "    letter=[0,0,0,0,0,0,0,0,0,0,0,0,0,0,0,0,0,0,0,0,0,0,0,0,0,0]\n",
    "    for i in word:\n",
    "        if i=='a': letter[0] +=1\n",
    "        elif i=='b': letter[1] +=1\n",
    "        elif i=='c': letter[2] +=1\n",
    "        elif i=='d': letter[3] +=1\n",
    "        elif i=='e': letter[4] +=1\n",
    "        elif i=='f': letter[5] +=1\n",
    "        elif i=='g': letter[6] +=1\n",
    "        elif i=='h': letter[7] +=1\n",
    "        elif i=='i': letter[8] +=1\n",
    "        elif i=='j': letter[9] +=1\n",
    "        elif i=='k': letter[10] +=1\n",
    "        elif i=='l': letter[11] +=1\n",
    "        elif i=='m': letter[12] +=1\n",
    "        elif i=='n': letter[13] +=1\n",
    "        elif i=='o': letter[14] +=1\n",
    "        elif i=='p': letter[15] +=1\n",
    "        elif i=='q': letter[16] +=1\n",
    "        elif i=='r': letter[17] +=1\n",
    "        elif i=='s': letter[18] +=1\n",
    "        elif i=='t': letter[19] +=1\n",
    "        elif i=='u': letter[20] +=1\n",
    "        elif i=='v': letter[21] +=1\n",
    "        elif i=='w': letter[22] +=1\n",
    "        elif i=='x': letter[23] +=1\n",
    "        elif i=='y': letter[24] +=1\n",
    "        elif i=='z': letter[25] +=1\n",
    "    return letter\n",
    "print(\"Input the word\")\n",
    "word=input()\n",
    "print(frequencies(word))"
   ]
  },
  {
   "cell_type": "markdown",
   "id": "1edd43a5",
   "metadata": {},
   "source": []
  }
 ],
 "metadata": {
  "kernelspec": {
   "display_name": "Python 3 (ipykernel)",
   "language": "python",
   "name": "python3"
  },
  "language_info": {
   "codemirror_mode": {
    "name": "ipython",
    "version": 3
   },
   "file_extension": ".py",
   "mimetype": "text/x-python",
   "name": "python",
   "nbconvert_exporter": "python",
   "pygments_lexer": "ipython3",
   "version": "3.9.7"
  }
 },
 "nbformat": 4,
 "nbformat_minor": 5
}
